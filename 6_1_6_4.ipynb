{
  "nbformat": 4,
  "nbformat_minor": 0,
  "metadata": {
    "colab": {
      "provenance": [],
      "authorship_tag": "ABX9TyP5GJ4yUSmL9y/z7n77HJoA",
      "include_colab_link": true
    },
    "kernelspec": {
      "name": "python3",
      "display_name": "Python 3"
    },
    "language_info": {
      "name": "python"
    }
  },
  "cells": [
    {
      "cell_type": "markdown",
      "metadata": {
        "id": "view-in-github",
        "colab_type": "text"
      },
      "source": [
        "<a href=\"https://colab.research.google.com/github/justtriss/first_repository/blob/main/6_1_6_4.ipynb\" target=\"_parent\"><img src=\"https://colab.research.google.com/assets/colab-badge.svg\" alt=\"Open In Colab\"/></a>"
      ]
    },
    {
      "cell_type": "code",
      "execution_count": null,
      "metadata": {
        "id": "4Za2aQTkEmBN"
      },
      "outputs": [],
      "source": [
        "# 6.1\n",
        "import pandas as pd\n",
        "def data_shape(dataset):\n",
        "    data = pd.read_csv(dataset)\n",
        "    return data.shape"
      ]
    },
    {
      "cell_type": "code",
      "source": [
        "# 6.2\n",
        "import pandas as pd\n",
        "def row_col_num(dataset):\n",
        "    data = pd.read_csv(dataset)\n",
        "    rows, cols = data.shape\n",
        "    return f'В таблице {rows} строк и {cols} столбцов'"
      ],
      "metadata": {
        "id": "ofxBSbuWE6sK"
      },
      "execution_count": null,
      "outputs": []
    },
    {
      "cell_type": "code",
      "source": [
        "# 6.3\n",
        "def read_file(file_name):\n",
        "    lines = []\n",
        "    with open(file_name, 'r') as file:\n",
        "        for line in file:\n",
        "            lines.append(line.strip())\n",
        "    return lines"
      ],
      "metadata": {
        "id": "eCI3qEbzE7xT"
      },
      "execution_count": null,
      "outputs": []
    },
    {
      "cell_type": "code",
      "source": [
        "# 6.4\n",
        "def read_file_last(file_name, n):\n",
        "    file = open(file_name, \"r\")\n",
        "    lines = file.readlines()\n",
        "    file.close()\n",
        "    last_lines = lines[-n:]\n",
        "    last_lines = [line.strip() for line in last_lines]\n",
        "    return last_lines"
      ],
      "metadata": {
        "id": "9-Psb9YtE76C"
      },
      "execution_count": null,
      "outputs": []
    }
  ]
}